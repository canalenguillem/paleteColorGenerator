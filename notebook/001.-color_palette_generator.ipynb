{
 "cells": [
  {
   "cell_type": "code",
   "execution_count": 1,
   "metadata": {},
   "outputs": [
    {
     "name": "stdout",
     "output_type": "stream",
     "text": [
      "La clave de OpenAI se ha cargado correctamente.\n"
     ]
    }
   ],
   "source": [
    "from dotenv import load_dotenv\n",
    "import os\n",
    "\n",
    "# Cargar las variables del archivo .env\n",
    "load_dotenv()\n",
    "\n",
    "# Obtener la clave de OpenAI\n",
    "openai_api_key = os.getenv(\"OPENAI_API_KEY\")\n",
    "\n",
    "# Verifica que la clave se ha cargado correctamente\n",
    "if openai_api_key:\n",
    "    print(\"La clave de OpenAI se ha cargado correctamente.\")\n",
    "else:\n",
    "    print(\"Error al cargar la clave de OpenAI.\")"
   ]
  },
  {
   "cell_type": "code",
   "execution_count": 2,
   "metadata": {},
   "outputs": [],
   "source": [
    "from openai import OpenAI\n",
    "client=OpenAI(api_key=openai_api_key)\n",
    "MODEL='gpt-4-turbo'"
   ]
  },
  {
   "cell_type": "code",
   "execution_count": 3,
   "metadata": {},
   "outputs": [],
   "source": [
    "    \n",
    "def generate_colors(prompt):\n",
    "    prompt_system = \"\"\"\n",
    "    Eres un asistente generador de paletas de colores que responde a indicaciones de texto para paletas de colores. \n",
    "    Debes generar paletas de colores que se ajusten al tema, estado de ánimo o instrucciones dadas en la indicación. \n",
    "    Las paletas deben tener entre 2 y 8 colores.\n",
    "\n",
    "\n",
    "    Formato deseado: un JSON Array con los códigos hexadecimales, solamente los codigos, nada más\n",
    "    \"\"\"\n",
    "    \n",
    "\n",
    "    messages=[\n",
    "            {'role':'system','content':prompt_system},\n",
    "            {'role':'user','content':prompt}\n",
    "        ]\n",
    "\n",
    "    response = client.chat.completions.create(\n",
    "            model=MODEL,\n",
    "            messages=messages,\n",
    "            temperature=1,\n",
    "            max_tokens=200,\n",
    "            n=1\n",
    "        )\n",
    "    return response.choices[0].message.content\n",
    "\n",
    "\n"
   ]
  },
  {
   "cell_type": "code",
   "execution_count": 11,
   "metadata": {},
   "outputs": [
    {
     "name": "stdout",
     "output_type": "stream",
     "text": [
      "[\"#FF4500\", \"#FFD700\", \"#FF8C00\", \"#FF6347\", \"#87CEEB\"]\n"
     ]
    }
   ],
   "source": [
    "result=generate_colors(\"una puesta de sol\")\n",
    "print(result)"
   ]
  },
  {
   "cell_type": "code",
   "execution_count": 12,
   "metadata": {},
   "outputs": [
    {
     "name": "stdout",
     "output_type": "stream",
     "text": [
      "[\"#4A90E2\", \"#659DAD\", \"#207793\", \"#2A94C0\", \"#B3D4E8\"]\n"
     ]
    }
   ],
   "source": [
    "result=generate_colors(\"el mar mediterráneo\")\n",
    "print(result)"
   ]
  },
  {
   "cell_type": "code",
   "execution_count": 13,
   "metadata": {},
   "outputs": [
    {
     "name": "stdout",
     "output_type": "stream",
     "text": [
      "[\"#8AA685\", \"#617f4b\", \"#4b5842\", \"#a0a161\", \"#918868\"]\n"
     ]
    }
   ],
   "source": [
    "result=generate_colors(\"sage, nature and earth\")\n",
    "print(result)"
   ]
  },
  {
   "cell_type": "code",
   "execution_count": 20,
   "metadata": {},
   "outputs": [
    {
     "name": "stdout",
     "output_type": "stream",
     "text": [
      "colors ['#8D8468', '#B6A19E', '#5A7247', '#7D9B7C', '#3E4237']\n"
     ]
    },
    {
     "data": {
      "text/html": [
       "<h1>Colors</h1><div style=\"display: flex; align-items: center;\"><div style=\"width:100px; height:100px; background-color:#8D8468; display:inline-block; margin-right:10px;\"></div><div style=\"width:100px; height:100px; background-color:#B6A19E; display:inline-block; margin-right:10px;\"></div><div style=\"width:100px; height:100px; background-color:#5A7247; display:inline-block; margin-right:10px;\"></div><div style=\"width:100px; height:100px; background-color:#7D9B7C; display:inline-block; margin-right:10px;\"></div><div style=\"width:100px; height:100px; background-color:#3E4237; display:inline-block; margin-right:10px;\"></div></div>"
      ],
      "text/plain": [
       "<IPython.core.display.HTML object>"
      ]
     },
     "metadata": {},
     "output_type": "display_data"
    }
   ],
   "source": [
    "import json\n",
    "from IPython.display import display, HTML\n",
    "\n",
    "def display_colors(color_list):\n",
    "    # Convertir la cadena a lista si es necesario\n",
    "    if isinstance(color_list, str):\n",
    "        color_list = json.loads(color_list)\n",
    "        \n",
    "    \n",
    "    # Generar bloques de color\n",
    "    color_blocks = ''.join([f'<div style=\"width:100px; height:100px; background-color:{color}; display:inline-block; margin-right:10px;\"></div>' for color in color_list])\n",
    "    display(HTML(f'<h1>Colors</h1><div style=\"display: flex; align-items: center;\">{color_blocks}</div>'))\n",
    "\n",
    "# Mostrar colores\n",
    "#result = generate_colors('sage, nature and earth')\n",
    "display_colors(result)\n"
   ]
  },
  {
   "cell_type": "code",
   "execution_count": null,
   "metadata": {},
   "outputs": [],
   "source": []
  },
  {
   "cell_type": "code",
   "execution_count": 21,
   "metadata": {},
   "outputs": [
    {
     "name": "stdout",
     "output_type": "stream",
     "text": [
      "[\"#4285F4\", \"#DB4437\", \"#F4B400\", \"#0F9D58\"]\n",
      "colors ['#4285F4', '#DB4437', '#F4B400', '#0F9D58']\n"
     ]
    },
    {
     "data": {
      "text/html": [
       "<h1>Colors</h1><div style=\"display: flex; align-items: center;\"><div style=\"width:100px; height:100px; background-color:#4285F4; display:inline-block; margin-right:10px;\"></div><div style=\"width:100px; height:100px; background-color:#DB4437; display:inline-block; margin-right:10px;\"></div><div style=\"width:100px; height:100px; background-color:#F4B400; display:inline-block; margin-right:10px;\"></div><div style=\"width:100px; height:100px; background-color:#0F9D58; display:inline-block; margin-right:10px;\"></div></div>"
      ],
      "text/plain": [
       "<IPython.core.display.HTML object>"
      ]
     },
     "metadata": {},
     "output_type": "display_data"
    },
    {
     "name": "stdout",
     "output_type": "stream",
     "text": [
      "____\n"
     ]
    }
   ],
   "source": [
    "# Mostrar colores\n",
    "result = generate_colors('google brand')\n",
    "display_colors(result)"
   ]
  },
  {
   "cell_type": "code",
   "execution_count": null,
   "metadata": {},
   "outputs": [],
   "source": []
  }
 ],
 "metadata": {
  "kernelspec": {
   "display_name": ".venv",
   "language": "python",
   "name": "python3"
  },
  "language_info": {
   "codemirror_mode": {
    "name": "ipython",
    "version": 3
   },
   "file_extension": ".py",
   "mimetype": "text/x-python",
   "name": "python",
   "nbconvert_exporter": "python",
   "pygments_lexer": "ipython3",
   "version": "3.11.4"
  }
 },
 "nbformat": 4,
 "nbformat_minor": 2
}
