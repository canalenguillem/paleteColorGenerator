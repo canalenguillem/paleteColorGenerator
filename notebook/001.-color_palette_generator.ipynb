{
 "cells": [
  {
   "cell_type": "code",
   "execution_count": 1,
   "metadata": {},
   "outputs": [
    {
     "name": "stdout",
     "output_type": "stream",
     "text": [
      "La clave de OpenAI se ha cargado correctamente.\n"
     ]
    }
   ],
   "source": [
    "from dotenv import load_dotenv\n",
    "import os\n",
    "\n",
    "# Cargar las variables del archivo .env\n",
    "load_dotenv()\n",
    "\n",
    "# Obtener la clave de OpenAI\n",
    "openai_api_key = os.getenv(\"OPENAI_API_KEY\")\n",
    "\n",
    "# Verifica que la clave se ha cargado correctamente\n",
    "if openai_api_key:\n",
    "    print(\"La clave de OpenAI se ha cargado correctamente.\")\n",
    "else:\n",
    "    print(\"Error al cargar la clave de OpenAI.\")"
   ]
  },
  {
   "cell_type": "code",
   "execution_count": 2,
   "metadata": {},
   "outputs": [],
   "source": [
    "from openai import OpenAI\n",
    "client=OpenAI(api_key=openai_api_key)\n",
    "MODEL='gpt-4-turbo'"
   ]
  },
  {
   "cell_type": "code",
   "execution_count": 10,
   "metadata": {},
   "outputs": [],
   "source": [
    "    \n",
    "def generate_colors(prompt):\n",
    "    prompt_system = \"\"\"\n",
    "    Eres un asistente generador de paletas de colores que responde a indicaciones de texto para paletas de colores. \n",
    "    Debes generar paletas de colores que se ajusten al tema, estado de ánimo o instrucciones dadas en la indicación. \n",
    "    Las paletas deben tener entre 2 y 8 colores.\n",
    "\n",
    "\n",
    "    Formato deseado: un JSON Array con los códigos hexadecimales, solamente los codigos, nada más\n",
    "    \"\"\"\n",
    "    \n",
    "\n",
    "    messages=[\n",
    "            {'role':'system','content':prompt_system},\n",
    "            {'role':'user','content':prompt}\n",
    "        ]\n",
    "\n",
    "    response = client.chat.completions.create(\n",
    "            model=MODEL,\n",
    "            messages=messages,\n",
    "            temperature=1,\n",
    "            max_tokens=200,\n",
    "            n=1\n",
    "        )\n",
    "    return response.choices[0].message.content\n",
    "\n",
    "\n"
   ]
  },
  {
   "cell_type": "code",
   "execution_count": 11,
   "metadata": {},
   "outputs": [
    {
     "name": "stdout",
     "output_type": "stream",
     "text": [
      "[\"#FF4500\", \"#FFD700\", \"#FF8C00\", \"#FF6347\", \"#87CEEB\"]\n"
     ]
    }
   ],
   "source": [
    "result=generate_colors(\"una puesta de sol\")\n",
    "print(result)"
   ]
  },
  {
   "cell_type": "code",
   "execution_count": 12,
   "metadata": {},
   "outputs": [
    {
     "name": "stdout",
     "output_type": "stream",
     "text": [
      "[\"#4A90E2\", \"#659DAD\", \"#207793\", \"#2A94C0\", \"#B3D4E8\"]\n"
     ]
    }
   ],
   "source": [
    "result=generate_colors(\"el mar mediterráneo\")\n",
    "print(result)"
   ]
  },
  {
   "cell_type": "code",
   "execution_count": 13,
   "metadata": {},
   "outputs": [
    {
     "name": "stdout",
     "output_type": "stream",
     "text": [
      "[\"#8AA685\", \"#617f4b\", \"#4b5842\", \"#a0a161\", \"#918868\"]\n"
     ]
    }
   ],
   "source": [
    "result=generate_colors(\"sage, nature and earth\")\n",
    "print(result)"
   ]
  },
  {
   "cell_type": "code",
   "execution_count": 18,
   "metadata": {},
   "outputs": [
    {
     "data": {
      "text/html": [
       "<div><div style=\"width:100px; height:100px; background-color:[; display:inline-block; margin-right:10px;\"></div><div style=\"width:100px; height:100px; background-color:\"; display:inline-block; margin-right:10px;\"></div><div style=\"width:100px; height:100px; background-color:#; display:inline-block; margin-right:10px;\"></div><div style=\"width:100px; height:100px; background-color:6; display:inline-block; margin-right:10px;\"></div><div style=\"width:100px; height:100px; background-color:8; display:inline-block; margin-right:10px;\"></div><div style=\"width:100px; height:100px; background-color:8; display:inline-block; margin-right:10px;\"></div><div style=\"width:100px; height:100px; background-color:B; display:inline-block; margin-right:10px;\"></div><div style=\"width:100px; height:100px; background-color:6; display:inline-block; margin-right:10px;\"></div><div style=\"width:100px; height:100px; background-color:E; display:inline-block; margin-right:10px;\"></div><div style=\"width:100px; height:100px; background-color:\"; display:inline-block; margin-right:10px;\"></div><div style=\"width:100px; height:100px; background-color:,; display:inline-block; margin-right:10px;\"></div><div style=\"width:100px; height:100px; background-color: ; display:inline-block; margin-right:10px;\"></div><div style=\"width:100px; height:100px; background-color:\"; display:inline-block; margin-right:10px;\"></div><div style=\"width:100px; height:100px; background-color:#; display:inline-block; margin-right:10px;\"></div><div style=\"width:100px; height:100px; background-color:7; display:inline-block; margin-right:10px;\"></div><div style=\"width:100px; height:100px; background-color:9; display:inline-block; margin-right:10px;\"></div><div style=\"width:100px; height:100px; background-color:A; display:inline-block; margin-right:10px;\"></div><div style=\"width:100px; height:100px; background-color:3; display:inline-block; margin-right:10px;\"></div><div style=\"width:100px; height:100px; background-color:9; display:inline-block; margin-right:10px;\"></div><div style=\"width:100px; height:100px; background-color:2; display:inline-block; margin-right:10px;\"></div><div style=\"width:100px; height:100px; background-color:\"; display:inline-block; margin-right:10px;\"></div><div style=\"width:100px; height:100px; background-color:,; display:inline-block; margin-right:10px;\"></div><div style=\"width:100px; height:100px; background-color: ; display:inline-block; margin-right:10px;\"></div><div style=\"width:100px; height:100px; background-color:\"; display:inline-block; margin-right:10px;\"></div><div style=\"width:100px; height:100px; background-color:#; display:inline-block; margin-right:10px;\"></div><div style=\"width:100px; height:100px; background-color:8; display:inline-block; margin-right:10px;\"></div><div style=\"width:100px; height:100px; background-color:D; display:inline-block; margin-right:10px;\"></div><div style=\"width:100px; height:100px; background-color:9; display:inline-block; margin-right:10px;\"></div><div style=\"width:100px; height:100px; background-color:8; display:inline-block; margin-right:10px;\"></div><div style=\"width:100px; height:100px; background-color:8; display:inline-block; margin-right:10px;\"></div><div style=\"width:100px; height:100px; background-color:3; display:inline-block; margin-right:10px;\"></div><div style=\"width:100px; height:100px; background-color:\"; display:inline-block; margin-right:10px;\"></div><div style=\"width:100px; height:100px; background-color:,; display:inline-block; margin-right:10px;\"></div><div style=\"width:100px; height:100px; background-color: ; display:inline-block; margin-right:10px;\"></div><div style=\"width:100px; height:100px; background-color:\"; display:inline-block; margin-right:10px;\"></div><div style=\"width:100px; height:100px; background-color:#; display:inline-block; margin-right:10px;\"></div><div style=\"width:100px; height:100px; background-color:B; display:inline-block; margin-right:10px;\"></div><div style=\"width:100px; height:100px; background-color:2; display:inline-block; margin-right:10px;\"></div><div style=\"width:100px; height:100px; background-color:C; display:inline-block; margin-right:10px;\"></div><div style=\"width:100px; height:100px; background-color:4; display:inline-block; margin-right:10px;\"></div><div style=\"width:100px; height:100px; background-color:A; display:inline-block; margin-right:10px;\"></div><div style=\"width:100px; height:100px; background-color:9; display:inline-block; margin-right:10px;\"></div><div style=\"width:100px; height:100px; background-color:\"; display:inline-block; margin-right:10px;\"></div><div style=\"width:100px; height:100px; background-color:,; display:inline-block; margin-right:10px;\"></div><div style=\"width:100px; height:100px; background-color: ; display:inline-block; margin-right:10px;\"></div><div style=\"width:100px; height:100px; background-color:\"; display:inline-block; margin-right:10px;\"></div><div style=\"width:100px; height:100px; background-color:#; display:inline-block; margin-right:10px;\"></div><div style=\"width:100px; height:100px; background-color:5; display:inline-block; margin-right:10px;\"></div><div style=\"width:100px; height:100px; background-color:C; display:inline-block; margin-right:10px;\"></div><div style=\"width:100px; height:100px; background-color:5; display:inline-block; margin-right:10px;\"></div><div style=\"width:100px; height:100px; background-color:0; display:inline-block; margin-right:10px;\"></div><div style=\"width:100px; height:100px; background-color:3; display:inline-block; margin-right:10px;\"></div><div style=\"width:100px; height:100px; background-color:9; display:inline-block; margin-right:10px;\"></div><div style=\"width:100px; height:100px; background-color:\"; display:inline-block; margin-right:10px;\"></div><div style=\"width:100px; height:100px; background-color:]; display:inline-block; margin-right:10px;\"></div></div>"
      ],
      "text/plain": [
       "<IPython.core.display.HTML object>"
      ]
     },
     "metadata": {},
     "output_type": "display_data"
    }
   ],
   "source": [
    "from IPython.display import display, HTML\n",
    "\n",
    "def display_colors(color_list):\n",
    "    color_blocks = ''.join([f'<div style=\"width:100px; height:100px; background-color:{color}; display:inline-block; margin-right:10px;\"></div>' for color in color_list])\n",
    "    display(HTML(f'<div>{color_blocks}</div>'))\n",
    "\n",
    "# Mostrar colores\n",
    "result = generate_colors('sage, nature and earth')\n",
    "display_colors(result)\n"
   ]
  },
  {
   "cell_type": "code",
   "execution_count": 17,
   "metadata": {},
   "outputs": [
    {
     "name": "stdout",
     "output_type": "stream",
     "text": [
      "[\"#8AA685\", \"#617f4b\", \"#4b5842\", \"#a0a161\", \"#918868\"]\n"
     ]
    },
    {
     "data": {
      "text/html": [
       "<div style=\"width:100px; height:100px; background-color:[; display:inline-block;\"></div><div style=\"width:100px; height:100px; background-color:\"; display:inline-block;\"></div><div style=\"width:100px; height:100px; background-color:#; display:inline-block;\"></div><div style=\"width:100px; height:100px; background-color:8; display:inline-block;\"></div><div style=\"width:100px; height:100px; background-color:A; display:inline-block;\"></div><div style=\"width:100px; height:100px; background-color:A; display:inline-block;\"></div><div style=\"width:100px; height:100px; background-color:6; display:inline-block;\"></div><div style=\"width:100px; height:100px; background-color:8; display:inline-block;\"></div><div style=\"width:100px; height:100px; background-color:5; display:inline-block;\"></div><div style=\"width:100px; height:100px; background-color:\"; display:inline-block;\"></div><div style=\"width:100px; height:100px; background-color:,; display:inline-block;\"></div><div style=\"width:100px; height:100px; background-color: ; display:inline-block;\"></div><div style=\"width:100px; height:100px; background-color:\"; display:inline-block;\"></div><div style=\"width:100px; height:100px; background-color:#; display:inline-block;\"></div><div style=\"width:100px; height:100px; background-color:6; display:inline-block;\"></div><div style=\"width:100px; height:100px; background-color:1; display:inline-block;\"></div><div style=\"width:100px; height:100px; background-color:7; display:inline-block;\"></div><div style=\"width:100px; height:100px; background-color:f; display:inline-block;\"></div><div style=\"width:100px; height:100px; background-color:4; display:inline-block;\"></div><div style=\"width:100px; height:100px; background-color:b; display:inline-block;\"></div><div style=\"width:100px; height:100px; background-color:\"; display:inline-block;\"></div><div style=\"width:100px; height:100px; background-color:,; display:inline-block;\"></div><div style=\"width:100px; height:100px; background-color: ; display:inline-block;\"></div><div style=\"width:100px; height:100px; background-color:\"; display:inline-block;\"></div><div style=\"width:100px; height:100px; background-color:#; display:inline-block;\"></div><div style=\"width:100px; height:100px; background-color:4; display:inline-block;\"></div><div style=\"width:100px; height:100px; background-color:b; display:inline-block;\"></div><div style=\"width:100px; height:100px; background-color:5; display:inline-block;\"></div><div style=\"width:100px; height:100px; background-color:8; display:inline-block;\"></div><div style=\"width:100px; height:100px; background-color:4; display:inline-block;\"></div><div style=\"width:100px; height:100px; background-color:2; display:inline-block;\"></div><div style=\"width:100px; height:100px; background-color:\"; display:inline-block;\"></div><div style=\"width:100px; height:100px; background-color:,; display:inline-block;\"></div><div style=\"width:100px; height:100px; background-color: ; display:inline-block;\"></div><div style=\"width:100px; height:100px; background-color:\"; display:inline-block;\"></div><div style=\"width:100px; height:100px; background-color:#; display:inline-block;\"></div><div style=\"width:100px; height:100px; background-color:a; display:inline-block;\"></div><div style=\"width:100px; height:100px; background-color:0; display:inline-block;\"></div><div style=\"width:100px; height:100px; background-color:a; display:inline-block;\"></div><div style=\"width:100px; height:100px; background-color:1; display:inline-block;\"></div><div style=\"width:100px; height:100px; background-color:6; display:inline-block;\"></div><div style=\"width:100px; height:100px; background-color:1; display:inline-block;\"></div><div style=\"width:100px; height:100px; background-color:\"; display:inline-block;\"></div><div style=\"width:100px; height:100px; background-color:,; display:inline-block;\"></div><div style=\"width:100px; height:100px; background-color: ; display:inline-block;\"></div><div style=\"width:100px; height:100px; background-color:\"; display:inline-block;\"></div><div style=\"width:100px; height:100px; background-color:#; display:inline-block;\"></div><div style=\"width:100px; height:100px; background-color:9; display:inline-block;\"></div><div style=\"width:100px; height:100px; background-color:1; display:inline-block;\"></div><div style=\"width:100px; height:100px; background-color:8; display:inline-block;\"></div><div style=\"width:100px; height:100px; background-color:8; display:inline-block;\"></div><div style=\"width:100px; height:100px; background-color:6; display:inline-block;\"></div><div style=\"width:100px; height:100px; background-color:8; display:inline-block;\"></div><div style=\"width:100px; height:100px; background-color:\"; display:inline-block;\"></div><div style=\"width:100px; height:100px; background-color:]; display:inline-block;\"></div>"
      ],
      "text/plain": [
       "<IPython.core.display.HTML object>"
      ]
     },
     "metadata": {},
     "output_type": "display_data"
    },
    {
     "name": "stdout",
     "output_type": "stream",
     "text": [
      "____\n"
     ]
    }
   ],
   "source": [
    "# Mostrar colores\n",
    "print(result)\n",
    "display_colors(result)\n",
    "print(\"____\")"
   ]
  },
  {
   "cell_type": "code",
   "execution_count": null,
   "metadata": {},
   "outputs": [],
   "source": []
  }
 ],
 "metadata": {
  "kernelspec": {
   "display_name": ".venv",
   "language": "python",
   "name": "python3"
  },
  "language_info": {
   "codemirror_mode": {
    "name": "ipython",
    "version": 3
   },
   "file_extension": ".py",
   "mimetype": "text/x-python",
   "name": "python",
   "nbconvert_exporter": "python",
   "pygments_lexer": "ipython3",
   "version": "3.11.2"
  }
 },
 "nbformat": 4,
 "nbformat_minor": 2
}
